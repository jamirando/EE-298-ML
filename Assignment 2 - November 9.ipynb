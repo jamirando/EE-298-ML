{
 "cells": [
  {
   "cell_type": "code",
   "execution_count": 1,
   "metadata": {},
   "outputs": [],
   "source": [
    "import numpy as np"
   ]
  },
  {
   "cell_type": "code",
   "execution_count": 2,
   "metadata": {},
   "outputs": [],
   "source": [
    "## Forward Activations\n",
    "def sigmoid(Z):\n",
    "    return 1/(1 + np.exp(-Z))\n",
    "\n",
    "def relu(Z):\n",
    "    return np.maximum(0,Z)\n",
    "\n",
    "## Backward Activations\n",
    "def sigmoid_backward(dA, Z):\n",
    "    sigmoid_Z = sigmoid(Z)\n",
    "    return dA * sigmoid_Z * (1 - sigmoid_Z)\n",
    "\n",
    "def relu_backward(dA, Z):\n",
    "    dZ = np.array(dA, copy=True)\n",
    "    dZ[Z <=0] = 0\n",
    "    return dZ\n",
    "    \n",
    "## Initialize Layers\n",
    "def initialize_layers(network_architecture):\n",
    "    number_of_layers = len(network_architecture)\n",
    "    parameters = {}\n",
    "    \n",
    "    for index, layer in enumerate(network_architecture):\n",
    "        layer_index = index + 1\n",
    "        layer_input_size = layer[\"input_dimension\"]\n",
    "        layer_output_size = layer[\"output_dimension\"]\n",
    "        \n",
    "        ##### remove *0.1  to parameter initialization #####\n",
    "        parameters['W' + str(layer_index)] = np.random.randn(layer_output_size, layer_input_size) *0.1\n",
    "        parameters['b' + str(layer_index)] = np.random.randn(layer_output_size, 1) *0.1\n",
    "        \n",
    "    return parameters\n",
    "\n",
    "## Forward Propagation\n",
    "\n",
    "def single_layer_forward_propagation(A_previous, W_current, b_current, activation=\"relu\"):\n",
    "    Z_current = np.dot(W_current, A_previous) + b_current\n",
    "    \n",
    "    if activation is \"relu\":\n",
    "        activation_function = relu\n",
    "    elif activation is \"sigmoid\":\n",
    "        activation_function = sigmoid\n",
    "    else:\n",
    "        raiseException('Unsupported activation')\n",
    "\n",
    "    return activation_function(Z_current), Z_current\n",
    "\n",
    "def full_forward_propagation(X, parameters, network_architecture):\n",
    "    memory = {}\n",
    "    A_current = X\n",
    "    \n",
    "    for index, layer in enumerate(network_architecture):\n",
    "        layer_index = index + 1\n",
    "        A_previous = A_current\n",
    "        \n",
    "        activation_function_current = layer[\"activation\"]\n",
    "        W_current = parameters[\"W\" + str(layer_index)]\n",
    "        b_current = parameters[\"b\" + str(layer_index)]\n",
    "        A_current, Z_current = single_layer_forward_propagation(A_previous, W_current, b_current, activation_function_current)\n",
    "\n",
    "        memory[\"A\" + str(index)] = A_previous\n",
    "        memory[\"Z\" + str(layer_index)] = Z_current\n",
    "        \n",
    "    return A_current, memory\n",
    "\n",
    "## Loss\n",
    "def MSE(Y_hat, Y):\n",
    "    loss = np.square(Y - Y_hat).mean()\n",
    "    return loss\n",
    "\n",
    "## Performance Metric\n",
    "def l2_distance(Y_hat, Y):\n",
    "    distance = np.sqrt(np.square(Y - Y_hat))\n",
    "    return distance.mean()\n",
    "\n",
    "## Backward Propagation\n",
    "def single_layer_backward_propagation(dA_current, W_current, b_current, Z_current, A_previous, activation=\"relu\"):\n",
    "    m = A_previous.shape[1]\n",
    "    \n",
    "    if activation is \"relu\":\n",
    "        backward_activation_function = relu_backward\n",
    "    elif activation is \"sigmoid\":\n",
    "        backward_activation_function = sigmoid_backward\n",
    "    else:\n",
    "        raise Exception('Unsupported activation')\n",
    "        \n",
    "    dZ_current = backward_activation_function(dA_current, Z_current)\n",
    "    \n",
    "    dW_current = np.dot(dZ_current, np.transpose(A_previous)) / m\n",
    "    db_current = np.sum(dZ_current, axis=1, keepdims=True) / m\n",
    "    dA_previous = np.dot(np.transpose(W_current), dZ_current)\n",
    "#     print(dW_current.shape, db_current.shape, dA_previous.shape)\n",
    "    \n",
    "    return dA_previous, dW_current, db_current\n",
    "\n",
    "def full_backward_propagation(Y_hat, Y, memory, parameters, network_architecture):\n",
    "    gradients = {}\n",
    "    \n",
    "    m = Y.shape[1]\n",
    "    Y = Y.reshape(Y_hat.shape)\n",
    "    \n",
    "    dA_previous = 2 * (Y_hat-Y)\n",
    "    \n",
    "    for layer_index_previous, layer in reversed(list(enumerate(network_architecture))):\n",
    "        layer_index_current = layer_index_previous + 1\n",
    "        activation_function_current = layer[\"activation\"]\n",
    "        \n",
    "        dA_current = dA_previous\n",
    "        \n",
    "        A_previous = memory[\"A\" + str(layer_index_previous)]\n",
    "        Z_current = memory[\"Z\" + str(layer_index_current)]\n",
    "        \n",
    "        W_current = parameters[\"W\" + str(layer_index_current)]\n",
    "        b_current = parameters[\"b\" + str(layer_index_current)]\n",
    "        \n",
    "        dA_previous, dW_current, db_current = single_layer_backward_propagation(dA_current, W_current, b_current, Z_current, A_previous, activation_function_current)\n",
    "        \n",
    "        gradients[\"dW\" + str(layer_index_current)] = dW_current\n",
    "        gradients[\"db\" + str(layer_index_current)] = db_current\n",
    "        \n",
    "    return gradients\n",
    "\n",
    "def update(parameters, gradients, network_architecture, learning_rate):\n",
    "    \n",
    "    for layer_index, layer in enumerate(network_architecture,1):\n",
    "        parameters[\"W\" + str(layer_index)] -= learning_rate * gradients[\"dW\" + str(layer_index)]\n",
    "        parameters[\"b\" + str(layer_index)] -= learning_rate * gradients[\"db\" + str(layer_index)]\n",
    "    \n",
    "    return parameters\n",
    "\n",
    "def train(X, Y, network_architecture, epochs, learning_rate):\n",
    "    parameters = initialize_layers(network_architecture)\n",
    "    loss_history = []\n",
    "    distance_history = []\n",
    "    \n",
    "    for i in range(epochs):\n",
    "        Y_hat, cache = full_forward_propagation(X, parameters, network_architecture)\n",
    "        \n",
    "        loss = MSE(Y_hat, Y)\n",
    "        loss_history.append(loss)\n",
    "        \n",
    "        distance = l2_distance(Y_hat, Y)\n",
    "        distance_history.append(distance)\n",
    "        \n",
    "        gradients = full_backward_propagation(Y_hat, Y, cache, parameters, network_architecture)\n",
    "        \n",
    "        parameters = update(parameters, gradients, network_architecture, learning_rate)\n",
    "        \n",
    "        print(\"Iteration: {:02} - loss: {:.5f} - l2-distance: {:.5f}\".format(i+1, loss, distance))\n",
    "        \n",
    "    return parameters"
   ]
  },
  {
   "cell_type": "code",
   "execution_count": 3,
   "metadata": {},
   "outputs": [],
   "source": [
    "## Network Architecture\n",
    "network_architecture = [\n",
    "    {\"input_dimension\":1, \"output_dimension\":64, \"activation\":\"relu\"},\n",
    "    {\"input_dimension\":64, \"output_dimension\":64, \"activation\":\"relu\"},\n",
    "    {\"input_dimension\":64, \"output_dimension\":1, \"activation\":\"sigmoid\"}\n",
    "]"
   ]
  },
  {
   "cell_type": "code",
   "execution_count": 4,
   "metadata": {},
   "outputs": [
    {
     "name": "stdout",
     "output_type": "stream",
     "text": [
      "Enter Mean:0\n",
      "Enter Standard Deviation:1\n"
     ]
    }
   ],
   "source": [
    "mean_text = input(\"Enter Mean:\")\n",
    "mean = float(mean_text)\n",
    "\n",
    "standard_deviation_text = input(\"Enter Standard Deviation:\")\n",
    "standard_deviation = float(standard_deviation_text)\n",
    "\n",
    "number_of_samples = 1000\n",
    "epochs = 20\n",
    "learning_rate = 0.1\n",
    "\n",
    "## Dataset Generation\n",
    "X = np.random.uniform(mean - 2*standard_deviation, mean + 2*standard_deviation,(1000,1))\n",
    "Y = (1/(standard_deviation*np.sqrt(2*np.pi))) * np.exp(-0.5*np.square((X - mean)/(standard_deviation)))\n",
    "\n",
    "X_train = []\n",
    "Y_train = []\n",
    "X_test = []\n",
    "Y_test = []\n",
    "\n",
    "for i in range(number_of_samples):\n",
    "    if i % 10 == 0:\n",
    "        X_test.append(X[i])\n",
    "        Y_test.append(Y[i])\n",
    "    else:\n",
    "        X_train.append(X[i])\n",
    "        Y_train.append(Y[i])\n",
    "\n",
    "X_train = np.array(X_train)\n",
    "Y_train = np.array(Y_train)\n",
    "X_test = np.array(X_test)\n",
    "Y_test = np.array(Y_test)\n",
    "\n"
   ]
  },
  {
   "cell_type": "code",
   "execution_count": 5,
   "metadata": {},
   "outputs": [
    {
     "name": "stdout",
     "output_type": "stream",
     "text": [
      "Iteration: 01 - loss: 0.09253 - l2-distance: 0.28048\n",
      "Iteration: 02 - loss: 0.08896 - l2-distance: 0.27416\n",
      "Iteration: 03 - loss: 0.08558 - l2-distance: 0.26803\n",
      "Iteration: 04 - loss: 0.08237 - l2-distance: 0.26209\n",
      "Iteration: 05 - loss: 0.07932 - l2-distance: 0.25632\n",
      "Iteration: 06 - loss: 0.07642 - l2-distance: 0.25073\n",
      "Iteration: 07 - loss: 0.07368 - l2-distance: 0.24530\n",
      "Iteration: 08 - loss: 0.07106 - l2-distance: 0.24001\n",
      "Iteration: 09 - loss: 0.06857 - l2-distance: 0.23489\n",
      "Iteration: 10 - loss: 0.06623 - l2-distance: 0.23001\n",
      "Iteration: 11 - loss: 0.06401 - l2-distance: 0.22529\n",
      "Iteration: 12 - loss: 0.06191 - l2-distance: 0.22071\n",
      "Iteration: 13 - loss: 0.05990 - l2-distance: 0.21626\n",
      "Iteration: 14 - loss: 0.05800 - l2-distance: 0.21195\n",
      "Iteration: 15 - loss: 0.05619 - l2-distance: 0.20775\n",
      "Iteration: 16 - loss: 0.05447 - l2-distance: 0.20367\n",
      "Iteration: 17 - loss: 0.05283 - l2-distance: 0.19970\n",
      "Iteration: 18 - loss: 0.05127 - l2-distance: 0.19583\n",
      "Iteration: 19 - loss: 0.04977 - l2-distance: 0.19205\n",
      "Iteration: 20 - loss: 0.04833 - l2-distance: 0.18836\n"
     ]
    }
   ],
   "source": [
    "# Training\n",
    "parameters = train(np.transpose(X_train), np.transpose(Y_train), network_architecture, epochs, learning_rate)"
   ]
  },
  {
   "cell_type": "code",
   "execution_count": 6,
   "metadata": {},
   "outputs": [
    {
     "name": "stdout",
     "output_type": "stream",
     "text": [
      "Test Set Distance: 0.17631\n"
     ]
    }
   ],
   "source": [
    "# Prediction\n",
    "Y_test_hat, _ = full_forward_propagation(np.transpose(X_test), parameters, network_architecture)\n",
    "\n",
    "# Distance achieved on the test set\n",
    "dist_test = l2_distance(Y_test_hat, np.transpose(Y_test))\n",
    "print(\"Test Set Distance: {:.5f}\".format(dist_test))\n"
   ]
  },
  {
   "cell_type": "code",
   "execution_count": 7,
   "metadata": {},
   "outputs": [
    {
     "data": {
      "text/plain": [
       "[<matplotlib.lines.Line2D at 0x1cc72d64438>]"
      ]
     },
     "execution_count": 7,
     "metadata": {},
     "output_type": "execute_result"
    },
    {
     "data": {
      "image/png": "[encoded data removed]",
      "text/plain": [
       "<Figure size 1440x720 with 1 Axes>"
      ]
     },
     "metadata": {
      "needs_background": "light"
     },
     "output_type": "display_data"
    }
   ],
   "source": [
    "import matplotlib.pyplot as plt\n",
    "\n",
    "plt.figure(figsize=(20,10))\n",
    "plt.plot(X_test,Y_test,'b.')\n",
    "plt.plot(X_test,np.transpose(Y_test_hat),'g.')\n",
    "# plt.plot(X_train, Y_train, 'r.')\n"
   ]
  }
 ],
 "metadata": {
  "kernelspec": {
   "display_name": "Python 3",
   "language": "python",
   "name": "python3"
  },
  "language_info": {
   "codemirror_mode": {
    "name": "ipython",
    "version": 3
   },
   "file_extension": ".py",
   "mimetype": "text/x-python",
   "name": "python",
   "nbconvert_exporter": "python",
   "pygments_lexer": "ipython3",
   "version": "3.6.12"
  }
 },
 "nbformat": 4,
 "nbformat_minor": 4
}
