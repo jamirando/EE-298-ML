{
 "cells": [
  {
   "cell_type": "code",
   "execution_count": 1,
   "metadata": {},
   "outputs": [],
   "source": [
    "import numpy as np"
   ]
  },
  {
   "cell_type": "markdown",
   "metadata": {},
   "source": [
    "## Functions for creating the Neural Network"
   ]
  },
  {
   "cell_type": "markdown",
   "metadata": {},
   "source": [
    "###  Activations and Layer Initialization\n",
    "\n",
    "Activations\n",
    " - Sigmoid\n",
    " - RELU\n",
    " \n",
    "Layers are initialized by random samples from a standard normal distribution.\n"
   ]
  },
  {
   "cell_type": "code",
   "execution_count": 2,
   "metadata": {},
   "outputs": [],
   "source": [
    "## Forward Activations\n",
    "def sigmoid(Z):\n",
    "    return 1/(1 + np.exp(-Z))\n",
    "\n",
    "def relu(Z):\n",
    "    return np.maximum(0,Z)\n",
    "\n",
    "## Backward Activations\n",
    "def sigmoid_backward(dA, Z):\n",
    "    return dA * sigmoid(Z) * (1 - sigmoid(Z))\n",
    "\n",
    "def relu_backward(dA, Z):\n",
    "    dZ = np.array(dA, copy=True)\n",
    "    dZ[Z <=0] = 0\n",
    "    return dZ\n",
    "    \n",
    "## Initialize Layers\n",
    "def initialize_layers(network_architecture):\n",
    "    '''\n",
    "    Initializes the weights and biases of all layers to random samples from the standard normal distribution\n",
    "\n",
    "    Input: \n",
    "        network_architecture: List of layers following the format - {input_dimesnsion: XX output_dimension: XX activation:\"XX\"}\n",
    "    Output: \n",
    "        parameters: Dictionary with keys Wx and bx containing the parameter values for the weights and biases of all layers\n",
    "    '''\n",
    "    number_of_layers = len(network_architecture)\n",
    "    parameters = {}\n",
    "    \n",
    "    for index, layer in enumerate(network_architecture):\n",
    "        layer_index = index + 1\n",
    "        layer_input_size = layer[\"input_dimension\"]\n",
    "        layer_output_size = layer[\"output_dimension\"]\n",
    "        \n",
    "        parameters['W' + str(layer_index)] = np.random.randn(layer_output_size, layer_input_size) *0.1\n",
    "        parameters['b' + str(layer_index)] = np.random.randn(layer_output_size, 1) *0.1\n",
    "        \n",
    "    return parameters"
   ]
  },
  {
   "cell_type": "markdown",
   "metadata": {},
   "source": [
    "### Forward Pass\n",
    "\n",
    "The Forward pass step is split into two functions: The single_layer_forward_propagation() and full_forward_propagation().\n",
    "\n",
    "single_layer_forward_propagation() computes for the output of the layer with or without activations. \n",
    "\n",
    "full_forward_propagation() aggregates all forward pass outputs of each layer.\n"
   ]
  },
  {
   "cell_type": "code",
   "execution_count": 3,
   "metadata": {},
   "outputs": [],
   "source": [
    "## Forward Propagation\n",
    "def single_layer_forward_propagation(A_previous, W_current, b_current, activation=\"relu\"):\n",
    "    '''\n",
    "    Implements the forward pass of a single layer\n",
    "    \n",
    "    Inputs:\n",
    "        A_previous: Output of the previous layer\n",
    "        W_current: Weights of the current layer\n",
    "        b_current: Biases of the current layer\n",
    "        activation: activation of the current layer\n",
    "    Outputs:\n",
    "        Z_current: Output of the current layer\n",
    "        activation_function(Z_current): Output of the current layer with activation\n",
    "    '''\n",
    "    \n",
    "    Z_current = np.dot(W_current, A_previous) + b_current\n",
    "    \n",
    "    if activation is \"relu\":\n",
    "        activation_function = relu\n",
    "    elif activation is \"sigmoid\":\n",
    "        activation_function = sigmoid\n",
    "    else:\n",
    "        raiseException('Unsupported activation')\n",
    "\n",
    "    return activation_function(Z_current), Z_current\n",
    "\n",
    "def full_forward_propagation(X, parameters, network_architecture):\n",
    "    '''\n",
    "    Implements the full forward pass\n",
    "    \n",
    "    Inputs:\n",
    "        X: Input to the network\n",
    "        parameters: Dictionary with keys Wx and bx containing the parameter values for the weights and biases of all layers\n",
    "        network_architecture: List of layers following the format - {input_dimesnsion: XX output_dimension: XX activation:\"XX\"}\n",
    "    Output:\n",
    "        A_current: The final output of last layer (predictions) \n",
    "        memory: Stores all the forward pass outputs of each layer.\n",
    "    '''\n",
    "    \n",
    "    memory = {}\n",
    "    A_current = X\n",
    "    \n",
    "    for index, layer in enumerate(network_architecture):\n",
    "        layer_index = index + 1\n",
    "        A_previous = A_current\n",
    "        \n",
    "        activation_function_current = layer[\"activation\"]\n",
    "        W_current = parameters[\"W\" + str(layer_index)]\n",
    "        b_current = parameters[\"b\" + str(layer_index)]\n",
    "        A_current, Z_current = single_layer_forward_propagation(A_previous, W_current, b_current, activation_function_current)\n",
    "\n",
    "        memory[\"A\" + str(index)] = A_previous\n",
    "        memory[\"Z\" + str(layer_index)] = Z_current\n",
    "        \n",
    "    return A_current, memory"
   ]
  },
  {
   "cell_type": "markdown",
   "metadata": {},
   "source": [
    "### Loss Function and Performance Metrics\n",
    "\n",
    "Loss Function:\n",
    " - Mean Square Error (MSE)\n",
    " \n",
    "Performance Metrics:\n",
    " - L1 distance\n",
    " - L2 distance"
   ]
  },
  {
   "cell_type": "code",
   "execution_count": 4,
   "metadata": {},
   "outputs": [],
   "source": [
    "## Loss\n",
    "def MSE(Y_hat, Y):\n",
    "    '''\n",
    "    Computes the Mean Square Error \n",
    "    \n",
    "    Inputs:\n",
    "        Y_hat: The predicted value\n",
    "        Y: The ground truth value\n",
    "    Output:\n",
    "        loss: Mean Square Error\n",
    "    \n",
    "    '''\n",
    "    loss = np.square(Y_hat - Y).mean()\n",
    "    return loss\n",
    "\n",
    "## Performance Metric\n",
    "def l2_distance(Y_hat, Y):\n",
    "    '''\n",
    "    Computes the L2 distance\n",
    "    \n",
    "    Inputs:\n",
    "        Y_hat: The predicted value\n",
    "        Y: The ground truth value\n",
    "    Output:\n",
    "        distance: l2_distance\n",
    "    '''\n",
    "    \n",
    "    distance = np.sqrt(np.square(Y_hat - Y).mean())\n",
    "    return distance\n",
    "\n",
    "def l1_distance(Y_hat, Y):\n",
    "    '''\n",
    "    Computes the L1 distance\n",
    "    \n",
    "    Inputs:\n",
    "        Y_hat: The predicted value\n",
    "        Y: The ground truth value\n",
    "    Output:\n",
    "        distance: l1_distance\n",
    "    '''\n",
    "    \n",
    "    distance = np.abs(Y_hat - Y).mean()\n",
    "    return distance"
   ]
  },
  {
   "cell_type": "markdown",
   "metadata": {},
   "source": [
    "### Backward Propagation\n",
    "\n",
    "The backward propagation step is split into two functions: The single_layer_backward_propagation() and the full_backward_propagation().\n",
    "\n",
    "single_layer_backward_propagation() computes not only the gradients for the current layer's weights and biases but also the input to be used for the previous layer.\n",
    "\n",
    "full_backward_propagation() initializes the backward propagation and does the backward propagation for the whole network also aggregates the gradients for all layers.\n",
    "\n",
    "update() performs the gradient descent on the weights and biases using the gradients from full backward propagation."
   ]
  },
  {
   "cell_type": "code",
   "execution_count": 5,
   "metadata": {},
   "outputs": [],
   "source": [
    "## Backward Propagation\n",
    "def single_layer_backward_propagation(dA_current, W_current, b_current, Z_current, A_previous, activation=\"relu\"):\n",
    "    '''\n",
    "    Implements a single layer backward propagation\n",
    "    \n",
    "    Note:\n",
    "    Assume: backprop for last layer (layer 3),\n",
    "    dA_current for the last layer is dL/dy_hat\n",
    "    In our case where L is MSE, dL/dy_hat is 2(y - y_hat)\n",
    "    the output for this layer would be the input to the layer before this (layer 2)\n",
    "    \n",
    "    \n",
    "    Inputs: \n",
    "        dA_current: backward pass input for the current layer \n",
    "        W_current: Weights of the current layer\n",
    "        b_current: Biases of the current layer\n",
    "        Z_current: forward pass output of the current layer\n",
    "        A_previous: forward pass output with activation of the previous layer\n",
    "    \n",
    "    Outputs:\n",
    "        dA_previous: backward pass output to be used as input for the previous layer (dL/dA)\n",
    "        dW_current: gradients for weights (dL/dW)\n",
    "        db_current: gradients for biases (dL/db)\n",
    "    '''\n",
    "    \n",
    "    if activation is \"relu\":\n",
    "        backward_activation_function = relu_backward\n",
    "    elif activation is \"sigmoid\":\n",
    "        backward_activation_function = sigmoid_backward\n",
    "    else:\n",
    "        raise Exception('Unsupported activation')\n",
    "        \n",
    "    dZ_current = backward_activation_function(dA_current, Z_current)\n",
    "    \n",
    "    dW_current = np.dot(dZ_current, np.transpose(A_previous))\n",
    "    db_current = np.sum(dZ_current, axis=1, keepdims=True) \n",
    "    dA_previous = np.dot(np.transpose(W_current), dZ_current)\n",
    "    \n",
    "    return dA_previous, dW_current, db_current\n",
    "\n",
    "def full_backward_propagation(Y_hat, Y, memory, parameters, network_architecture):\n",
    "    '''\n",
    "    Implements the full backward propagation.\n",
    "    \n",
    "    Inputs:\n",
    "        Y_hat: predictions of the forward pass\n",
    "        Y: ground truth\n",
    "        memory: Stores all forward pass outputs of each layer \n",
    "        parameters: Dictionary with keys Wx and bx containing the parameter values for the weights and biases of all layers\n",
    "        network_architecture: List of layers following the format - {input_dimesnsion: XX output_dimension: XX activation:\"XX\"}\n",
    "    Output:\n",
    "        gradient: gradients for all layers        \n",
    "    '''\n",
    "    \n",
    "    gradients = {}\n",
    "    \n",
    "    dA_previous = 2 * (Y_hat-Y)\n",
    "    \n",
    "    for layer_index_previous, layer in reversed(list(enumerate(network_architecture))):\n",
    "        layer_index_current = layer_index_previous + 1\n",
    "        activation_function_current = layer[\"activation\"]\n",
    "        \n",
    "        dA_current = dA_previous\n",
    "        \n",
    "        A_previous = memory[\"A\" + str(layer_index_previous)]\n",
    "        Z_current = memory[\"Z\" + str(layer_index_current)]\n",
    "        \n",
    "        W_current = parameters[\"W\" + str(layer_index_current)]\n",
    "        b_current = parameters[\"b\" + str(layer_index_current)]\n",
    "        \n",
    "        dA_previous, dW_current, db_current = single_layer_backward_propagation(dA_current, W_current, b_current, Z_current, A_previous, activation_function_current)\n",
    "        \n",
    "        gradients[\"dW\" + str(layer_index_current)] = dW_current\n",
    "        gradients[\"db\" + str(layer_index_current)] = db_current\n",
    "        \n",
    "    return gradients\n",
    "\n",
    "def update(parameters, gradients, network_architecture, learning_rate):\n",
    "    '''\n",
    "    Updates the parameters based on the gradients and learning rate\n",
    "    \n",
    "    Inputs:\n",
    "        parameters: Dictionary with keys Wx and bx containing the parameter values for the weights and biases of all layers \n",
    "        gradients: gradients for all layers\n",
    "        network_architecture: List of layers following the format - {input_dimesnsion: XX output_dimension: XX activation:\"XX\"}\n",
    "        learning_rate: learning rate for update\n",
    "    Output\n",
    "        parameters: Updated dictionary of parameter values for the weights and biases of all layers\n",
    "        \n",
    "    '''\n",
    "    \n",
    "    for layer_index, layer in enumerate(network_architecture,1):\n",
    "        parameters[\"W\" + str(layer_index)] -= learning_rate * gradients[\"dW\" + str(layer_index)]\n",
    "        parameters[\"b\" + str(layer_index)] -= learning_rate * gradients[\"db\" + str(layer_index)]\n",
    "    \n",
    "    return parameters"
   ]
  },
  {
   "cell_type": "markdown",
   "metadata": {},
   "source": [
    "### Network Architecture\n",
    "\n",
    "Describes how the network looks like. "
   ]
  },
  {
   "cell_type": "code",
   "execution_count": 6,
   "metadata": {},
   "outputs": [],
   "source": [
    "## Network Architecture\n",
    "network_architecture = [\n",
    "    {\"input_dimension\":1, \"output_dimension\":64, \"activation\":\"relu\"},\n",
    "    {\"input_dimension\":64, \"output_dimension\":64, \"activation\":\"relu\"},\n",
    "    {\"input_dimension\":64, \"output_dimension\":1, \"activation\":\"sigmoid\"}\n",
    "]"
   ]
  },
  {
   "cell_type": "markdown",
   "metadata": {},
   "source": [
    "### Training Function"
   ]
  },
  {
   "cell_type": "code",
   "execution_count": 7,
   "metadata": {},
   "outputs": [],
   "source": [
    "def train(X, Y, network_architecture, epochs, learning_rate):\n",
    "    '''\n",
    "    Training code\n",
    "    \n",
    "    Inputs: \n",
    "        X: training data\n",
    "        Y: ground truth\n",
    "        network_architecture: List of layers following the format - {input_dimesnsion: XX output_dimension: XX activation:\"XX\"}\n",
    "        epoch: number of training epochs\n",
    "        learning_rate: learning rate for gradient update\n",
    "    '''\n",
    "    \n",
    "    parameters = initialize_layers(network_architecture)\n",
    "    \n",
    "    l1_distance_history = []\n",
    "    l2_distance_history = []\n",
    "    \n",
    "    for epoch in range(epochs):\n",
    "        loss_history = []\n",
    "        Y_hat_epoch = []\n",
    "        for i in range(len(X)):\n",
    "            Y_hat, cache = full_forward_propagation(X[i].reshape(1,1), parameters, network_architecture)\n",
    "            Y_hat_epoch.append(Y_hat)\n",
    "\n",
    "            loss = MSE(Y_hat, Y[i])\n",
    "            loss_history.append(loss)\n",
    "\n",
    "            gradients = full_backward_propagation(Y_hat, Y[i], cache, parameters, network_architecture)\n",
    "\n",
    "            parameters = update(parameters, gradients, network_architecture, learning_rate)\n",
    "\n",
    "        distance_l1 = l1_distance(np.array(Y_hat_epoch).reshape(900,), Y)\n",
    "        l1_distance_history.append(distance_l1)\n",
    "\n",
    "        distance_l2 = l2_distance(np.array(Y_hat_epoch).reshape(900,), Y)\n",
    "        l2_distance_history.append(distance_l2)\n",
    "        \n",
    "        print(\"Epoch: {:02} - loss: {:.5f} - l1-distance: {:.5f} - l2-distance: {:.5f}\".format(epoch+1, loss.mean(), distance_l1 , distance_l2))\n",
    "        \n",
    "    return parameters"
   ]
  },
  {
   "cell_type": "markdown",
   "metadata": {},
   "source": [
    "## Dataset Generation"
   ]
  },
  {
   "cell_type": "markdown",
   "metadata": {},
   "source": [
    "The dataset generated by requesting the user to provide the mean and standard deviation of a normal distribution."
   ]
  },
  {
   "cell_type": "code",
   "execution_count": 8,
   "metadata": {},
   "outputs": [
    {
     "name": "stdout",
     "output_type": "stream",
     "text": [
      "Enter Mean:2.5\n",
      "Enter Standard Deviation:1\n"
     ]
    }
   ],
   "source": [
    "mean = float(input(\"Enter Mean:\"))\n",
    "standard_deviation = float(input(\"Enter Standard Deviation:\"))\n",
    "\n",
    "number_of_samples = 1000"
   ]
  },
  {
   "cell_type": "markdown",
   "metadata": {},
   "source": [
    "From this normal distribution, 1,000,000 samples 2 standard deviations away from the mean are taken. \n",
    "\n",
    "We then create a histogram with 1000 bins and obtain the probabilities for each sample. We then reduce the dataset to 1000 iid samples.\n",
    "\n",
    "Minmax normalization is also applied to the data to ensure that all values would be between 0 to 1.\n",
    "\n",
    "The final step is to split the data into train and test sets with the following distribution. \n",
    "- Training Samples: 900\n",
    "- Test Samples: 100"
   ]
  },
  {
   "cell_type": "code",
   "execution_count": 9,
   "metadata": {},
   "outputs": [],
   "source": [
    "## Dataset Generation\n",
    "samples = []\n",
    "for i in range(1000000):\n",
    "    sample = np.random.normal(mean, standard_deviation)\n",
    "    while sample < mean - 2*standard_deviation or sample > mean + 2*standard_deviation:\n",
    "        sample = np.random.normal(mean, standard_deviation)\n",
    "        \n",
    "    samples.append(sample)\n",
    "samples = np.array(samples)\n",
    "\n",
    "probabilities, bins = np.histogram(samples, bins=number_of_samples, density=True)\n",
    "indices = np.digitize(samples, bins, right=True) - 1\n",
    "\n",
    "X_raw = samples[:number_of_samples]\n",
    "Y = probabilities[indices][:number_of_samples]\n",
    "X = (X_raw - np.min(X_raw))/(np.max(X_raw) - np.min(X_raw))\n",
    "\n",
    "X_train = X[:int(.9*number_of_samples)]\n",
    "Y_train = Y[:int(.9*number_of_samples)]\n",
    "X_test = X[int(.9*number_of_samples):]\n",
    "Y_test = Y[int(.9*number_of_samples):]"
   ]
  },
  {
   "cell_type": "markdown",
   "metadata": {},
   "source": [
    "## Training\n",
    "\n",
    "Hyperparameters:\n",
    "\n",
    "- Batch size = 1\n",
    "- Epochs = 20 \n",
    "- Learning Rate = 0.1\n",
    "\n",
    "Per epoch loss, l1 distance and l2 distance are printed"
   ]
  },
  {
   "cell_type": "code",
   "execution_count": 10,
   "metadata": {
    "scrolled": true
   },
   "outputs": [
    {
     "name": "stdout",
     "output_type": "stream",
     "text": [
      "Epoch: 01 - loss: 0.00037 - l1-distance: 0.08510 - l2-distance: 0.10375\n",
      "Epoch: 02 - loss: 0.00036 - l1-distance: 0.08421 - l2-distance: 0.10066\n",
      "Epoch: 03 - loss: 0.00035 - l1-distance: 0.08358 - l2-distance: 0.09992\n",
      "Epoch: 04 - loss: 0.00032 - l1-distance: 0.08270 - l2-distance: 0.09890\n",
      "Epoch: 05 - loss: 0.00029 - l1-distance: 0.08139 - l2-distance: 0.09737\n",
      "Epoch: 06 - loss: 0.00024 - l1-distance: 0.07927 - l2-distance: 0.09493\n",
      "Epoch: 07 - loss: 0.00018 - l1-distance: 0.07569 - l2-distance: 0.09082\n",
      "Epoch: 08 - loss: 0.00013 - l1-distance: 0.06949 - l2-distance: 0.08374\n",
      "Epoch: 09 - loss: 0.00009 - l1-distance: 0.05915 - l2-distance: 0.07203\n",
      "Epoch: 10 - loss: 0.00012 - l1-distance: 0.04419 - l2-distance: 0.05540\n",
      "Epoch: 11 - loss: 0.00020 - l1-distance: 0.02927 - l2-distance: 0.03880\n",
      "Epoch: 12 - loss: 0.00024 - l1-distance: 0.02076 - l2-distance: 0.02804\n",
      "Epoch: 13 - loss: 0.00017 - l1-distance: 0.01628 - l2-distance: 0.02188\n",
      "Epoch: 14 - loss: 0.00011 - l1-distance: 0.01342 - l2-distance: 0.01800\n",
      "Epoch: 15 - loss: 0.00007 - l1-distance: 0.01163 - l2-distance: 0.01545\n",
      "Epoch: 16 - loss: 0.00003 - l1-distance: 0.01053 - l2-distance: 0.01379\n",
      "Epoch: 17 - loss: 0.00001 - l1-distance: 0.00978 - l2-distance: 0.01269\n",
      "Epoch: 18 - loss: 0.00001 - l1-distance: 0.00932 - l2-distance: 0.01194\n",
      "Epoch: 19 - loss: 0.00000 - l1-distance: 0.00896 - l2-distance: 0.01139\n",
      "Epoch: 20 - loss: 0.00000 - l1-distance: 0.00870 - l2-distance: 0.01101\n"
     ]
    }
   ],
   "source": [
    "# Training\n",
    "epochs = 20\n",
    "learning_rate = 0.1\n",
    "\n",
    "parameters = train(np.transpose(X_train), np.transpose(Y_train), network_architecture, epochs, learning_rate)"
   ]
  },
  {
   "cell_type": "markdown",
   "metadata": {},
   "source": [
    "## Testing and Benchmark\n",
    "\n",
    "Testing is done by doing a full forward propagation on the test set to get the predictions. We reuse the parameters we get from training when doing the forward propagation.\n",
    "\n",
    "L1 distance and L2 distance are used for benchmarking because they are the common metrics used for evaluation of regression models. MSE is also one of the common benchmarks but it was used as the loss function therefore using it as a metric would yield us no benefit."
   ]
  },
  {
   "cell_type": "code",
   "execution_count": 11,
   "metadata": {},
   "outputs": [
    {
     "name": "stdout",
     "output_type": "stream",
     "text": [
      "Test Set: \n",
      " l1-distance: 0.00805 \n",
      " l2-distance: 0.01031 \n"
     ]
    }
   ],
   "source": [
    "# Prediction\n",
    "Y_test_hat, _ = full_forward_propagation(np.transpose(X_test.reshape(X_test.shape[0],1)), parameters, network_architecture)\n",
    "\n",
    "# Distance achieved on the test set\n",
    "l1_distance_test = l1_distance(Y_test_hat, np.transpose(Y_test))\n",
    "l2_distance_test = l2_distance(Y_test_hat, np.transpose(Y_test))\n",
    "print(\"Test Set: \\n l1-distance: {:.5f} \\n l2-distance: {:.5f} \".format(l1_distance_test, l2_distance_test))\n"
   ]
  },
  {
   "cell_type": "markdown",
   "metadata": {},
   "source": [
    "## Visualization\n",
    "\n",
    "matplotlib was used to visualize the predictions of the network versus the ground truth. "
   ]
  },
  {
   "cell_type": "code",
   "execution_count": 12,
   "metadata": {},
   "outputs": [
    {
     "data": {
      "text/plain": [
       "<function matplotlib.pyplot.show(close=None, block=None)>"
      ]
     },
     "execution_count": 12,
     "metadata": {},
     "output_type": "execute_result"
    },
    {
     "data": {
      "image/png": "[encoded data removed]",
      "text/plain": [
       "<Figure size 1440x720 with 1 Axes>"
      ]
     },
     "metadata": {
      "needs_background": "light"
     },
     "output_type": "display_data"
    }
   ],
   "source": [
    "import matplotlib.pyplot as plt\n",
    "\n",
    "plt.figure(figsize=(20,10))\n",
    "plt.plot(X_raw[int(.9*number_of_samples):],Y_test,'r.')\n",
    "plt.plot(X_raw[int(.9*number_of_samples):],np.transpose(Y_test_hat),'b.')\n",
    "plt.legend([\"ground truth\", \"predictions\"])\n",
    "plt.xlabel('Samples')\n",
    "plt.ylabel('Probabilities')\n",
    "plt.show"
   ]
  },
  {
   "cell_type": "markdown",
   "metadata": {},
   "source": [
    "## References\n",
    "\n",
    "1.  https://github.com/SkalskiP/ILearnDeepLearning.py/blob/master/01_mysteries_of_neural_networks/03_numpy_neural_net/Numpy%20deep%20neural%20network.ipynb\n",
    "\n",
    "2. https://pytorch.org/tutorials/beginner/pytorch_with_examples.html\n"
   ]
  }
 ],
 "metadata": {
  "kernelspec": {
   "display_name": "Python 3",
   "language": "python",
   "name": "python3"
  },
  "language_info": {
   "codemirror_mode": {
    "name": "ipython",
    "version": 3
   },
   "file_extension": ".py",
   "mimetype": "text/x-python",
   "name": "python",
   "nbconvert_exporter": "python",
   "pygments_lexer": "ipython3",
   "version": "3.6.12"
  }
 },
 "nbformat": 4,
 "nbformat_minor": 4
}
