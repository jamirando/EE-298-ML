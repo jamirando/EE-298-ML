{
 "cells": [
  {
   "cell_type": "code",
   "execution_count": 21,
   "metadata": {},
   "outputs": [],
   "source": [
    "import numpy as np\n",
    "import matplotlib.pyplot as plt"
   ]
  },
  {
   "cell_type": "markdown",
   "metadata": {},
   "source": [
    "# 1. 16 x 16 dim Encoding"
   ]
  },
  {
   "cell_type": "code",
   "execution_count": 2,
   "metadata": {},
   "outputs": [],
   "source": [
    "def get_angles(pos, i, d_model):\n",
    "#     angle_rates = 1 / np.power(10000, (2* (i//2))) / np.float32(d_model)\n",
    "    angle_rates = 1 / np.power(10000, (2* (i//2) / np.float32(d_model)))\n",
    "    return pos * angle_rates\n",
    "\n",
    "def positional_encoding(position, d_model):\n",
    "    angle_rads = get_angles(np.arange(position)[:, np.newaxis],\n",
    "                            np.arange(d_model)[np.newaxis, :],\n",
    "                            d_model)\n",
    "    \n",
    "    angle_rads[:, 0::2] = np.sin(angle_rads[:, 0::2])\n",
    "    angle_rads[:, 1::2] = np.cos(angle_rads[:, 1::2])\n",
    "    \n",
    "    pos_encoding  = angle_rads[np.newaxis, ...]\n",
    "    \n",
    "    return pos_encoding"
   ]
  },
  {
   "cell_type": "code",
   "execution_count": 3,
   "metadata": {},
   "outputs": [],
   "source": [
    "tokens = 16\n",
    "dimensions = 16\n",
    "\n",
    "pos_encoding = positional_encoding(tokens, dimensions)"
   ]
  },
  {
   "cell_type": "code",
   "execution_count": 4,
   "metadata": {},
   "outputs": [
    {
     "data": {
      "image/png": "[encoded data removed]",
      "text/plain": [
       "<Figure size 864x576 with 2 Axes>"
      ]
     },
     "metadata": {
      "needs_background": "light"
     },
     "output_type": "display_data"
    }
   ],
   "source": [
    "plt.figure(figsize=(12,8))\n",
    "plt.pcolormesh(pos_encoding[0], cmap='viridis')\n",
    "plt.xlabel('Embedding Dimensions')\n",
    "plt.xlim(0, dimensions)\n",
    "plt.ylabel('Token Positions')\n",
    "plt.ylim(tokens, 0)\n",
    "plt.colorbar()\n",
    "plt.show()"
   ]
  },
  {
   "cell_type": "markdown",
   "metadata": {},
   "source": [
    "# 2. Gram Schmidt Orthogonalization"
   ]
  },
  {
   "cell_type": "code",
   "execution_count": 32,
   "metadata": {},
   "outputs": [
    {
     "name": "stdout",
     "output_type": "stream",
     "text": [
      "b1 = [0. 1. 0. 1. 0. 1. 0. 1. 0. 1. 0. 1. 0. 1. 0. 1.]\n",
      "b2 = [8.41470985e-01 5.40302306e-01 3.10983593e-01 9.50415280e-01\n",
      " 9.98334166e-02 9.95004165e-01 3.16175064e-02 9.99500042e-01\n",
      " 9.99983333e-03 9.99950000e-01 3.16227239e-03 9.99995000e-01\n",
      " 9.99999833e-04 9.99999500e-01 3.16227761e-04 9.99999950e-01]\n",
      "\n",
      "\n",
      "norm_b1 = 2.8284271247461903\n",
      "norm_b2 = 2.8284271247461903\n",
      "\n",
      "\n",
      "b1_dot_b2 = 7.4851662434875\n"
     ]
    }
   ],
   "source": [
    "# Load Two encodings\n",
    "b1 = pos_encoding[0][0]\n",
    "b2 = pos_encoding[0][1]\n",
    "\n",
    "# View Encodings\n",
    "print('b1 =',b1)\n",
    "print('b2 =',b2)\n",
    "print('\\n')\n",
    "\n",
    "# Get Norms of Encodings (Must be equal to 1 to be a unit vector)\n",
    "print('norm_b1 =',np.linalg.norm(b1))\n",
    "print('norm_b2 =',np.linalg.norm(b2))\n",
    "print('\\n')\n",
    "\n",
    "# Get Dot product of the Encodings (Must be equal to 0 to be orthogonal)\n",
    "print('b1_dot_b2 =', np.dot(b1,b2))"
   ]
  },
  {
   "cell_type": "markdown",
   "metadata": {},
   "source": [
    "Assuming B is a set of basis vectors, the vectors are not unit vectors and they are not orthogonal. Therefore they are also not orthonormal."
   ]
  },
  {
   "cell_type": "code",
   "execution_count": 27,
   "metadata": {},
   "outputs": [],
   "source": [
    "def gs(X):\n",
    "    Q,R = np.linalg.qr(X)\n",
    "    return Q"
   ]
  },
  {
   "cell_type": "code",
   "execution_count": 35,
   "metadata": {},
   "outputs": [
    {
     "name": "stdout",
     "output_type": "stream",
     "text": [
      "GS_b1 = [ 0.         -0.29995127 -0.32412872 -0.05030373  0.26977028  0.34181874\n",
      "  0.09960062 -0.23418985 -0.35266725 -0.14690401  0.1939221   0.35645713\n",
      "  0.19126711 -0.149773   -0.35311251 -0.23180201]\n",
      "GS_b2 = [-0.29995127 -0.19368307 -0.16973745 -0.25463363 -0.21054296  0.26525884\n",
      "  0.09625185  0.4663709   0.46256966 -0.38541339  0.22896503 -0.13533516\n",
      " -0.05443513 -0.00661344  0.02338032  0.02453312]\n",
      "\n",
      "\n",
      "norm_GS_b1 = 1.0\n",
      "norm_GS_b2 = 1.0\n",
      "\n",
      "\n",
      "GS_b1_dot_GS__b2 = -0.07355714319985096\n"
     ]
    }
   ],
   "source": [
    "GS_pos_encoding = gs(pos_encoding[0])\n",
    "# print(GS_pos_encoding)\n",
    "GS_b1 = GS_pos_encoding[0]\n",
    "GS_b2 = GS_pos_encoding[1]\n",
    "\n",
    "# View Encodings\n",
    "print('GS_b1 =',GS_b1)\n",
    "print('GS_b2 =',GS_b2)\n",
    "print('\\n')\n",
    "\n",
    "# Get Norms of Encodings (Must be equal to 1 to be a unit vector)\n",
    "print('norm_GS_b1 =',np.linalg.norm(GS_b1))\n",
    "print('norm_GS_b2 =',np.linalg.norm(GS_b2))\n",
    "print('\\n')\n",
    "\n",
    "# Get Dot product of the Encodings (Must be equal to 0 to be orthogonal)\n",
    "print('GS_b1_dot_GS__b2 =', np.dot(GS_b1,GS_b2))"
   ]
  }
 ],
 "metadata": {
  "kernelspec": {
   "display_name": "Python 3",
   "language": "python",
   "name": "python3"
  },
  "language_info": {
   "codemirror_mode": {
    "name": "ipython",
    "version": 3
   },
   "file_extension": ".py",
   "mimetype": "text/x-python",
   "name": "python",
   "nbconvert_exporter": "python",
   "pygments_lexer": "ipython3",
   "version": "3.6.12"
  }
 },
 "nbformat": 4,
 "nbformat_minor": 4
}
